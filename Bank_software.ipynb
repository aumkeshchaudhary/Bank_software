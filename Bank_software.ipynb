{
  "cells": [
    {
      "cell_type": "code",
      "source": [
        "class Customer:\n",
        "    def __init__(self, cn, ci, cj):\n",
        "        self.cname=cn\n",
        "        self.cid=ci\n",
        "        self.cjob=cj\n",
        "    def getCName(self):\n",
        "        return self.cname\n",
        "    def getCid(self):\n",
        "        return self.cid\n",
        "    def getCjob(self):\n",
        "        return self.cjob\n",
        "    def setCJob(self, new_job):\n",
        "        self.cjob=new_job\n",
        "class Accounts:\n",
        "    def __init__(self, cust, acc_no, bal):\n",
        "        self.customer=cust\n",
        "        self.account_number=acc_no\n",
        "        self.balance=bal\n",
        "    def deposit(self, amt):\n",
        "        self.balance+=amt\n",
        "    def withdraw(self, amt):\n",
        "        self.balance-=amt\n",
        "    def getCustomer(self):\n",
        "        return self.customer\n",
        "    def getAccountNumber(self):\n",
        "        return self.account_number\n",
        "    def getBalance(self):\n",
        "        return self.balance\n",
        "class BankAccounts:\n",
        "    def __init__(self, acc_list):\n",
        "        self.alist=acc_list\n",
        "    def addAccount(self, acc):\n",
        "        for i in self.alist:\n",
        "            if i is acc:\n",
        "                print(\"Account already exists\")\n",
        "                return\n",
        "        self.alist.append(acc)\n",
        "    def removeAccount(self, acc):\n",
        "        ind=0 #index\n",
        "        for i in self.alist:\n",
        "            if i is acc:\n",
        "                self.alist.pop(ind)\n",
        "                return\n",
        "            ind+=1\n",
        "        print(\"The account does not exist\")\n",
        "    def printAllCBalances(self):\n",
        "        print(\"Printing all account numbers and balances: \")\n",
        "        for i in self.alist:\n",
        "            print(i.customer.getCName(), i.getAccountNumber(), i.getBalance())\n",
        "c1=Customer(\"Ajay\", 100, \"Teacher\")\n",
        "c2=Customer(\"Ram\", 101, \"Business\")\n",
        "c3=Customer(\"Shyam\", 102, \"Students\")\n",
        "a1=Accounts(c1, 1100, 10000)\n",
        "a2=Accounts(c2, 1101, 100000)\n",
        "a3=Accounts(c3, 1102, 1000)\n",
        "b1=BankAccounts([])\n",
        "b1.addAccount(a1)\n",
        "b1.addAccount(a2)\n",
        "b1.addAccount(a3)\n",
        "b1.printAllCBalances()\n",
        "a1.deposit(100000)\n",
        "b1.printAllCBalances()\n",
        "##Create a menu based software with the following options. After a task is done, return to\n",
        "##the menu till 'x' is not pressed\n",
        "'''\n",
        "1. Add Customer\n",
        "2. Update Customer Job\n",
        "3. Create Account\n",
        "4. Deposit Amount\n",
        "5. Withdraw Amount\n",
        "6. Get Balance\n",
        "7. Add Account in Branch\n",
        "8. Remove Account from Branch\n",
        "9. Print All Customer Balances\n",
        "x. Quit\n",
        "'''"
      ],
      "metadata": {
        "id": "8Trat1TweREC",
        "outputId": "936f827e-ae3f-478c-fab4-19cca6dea092",
        "colab": {
          "base_uri": "https://localhost:8080/",
          "height": 205
        }
      },
      "execution_count": 1,
      "outputs": [
        {
          "output_type": "stream",
          "name": "stdout",
          "text": [
            "Printing all account numbers and balances: \n",
            "Ajay 1100 10000\n",
            "Ram 1101 100000\n",
            "Shyam 1102 1000\n",
            "Printing all account numbers and balances: \n",
            "Ajay 1100 110000\n",
            "Ram 1101 100000\n",
            "Shyam 1102 1000\n"
          ]
        },
        {
          "output_type": "execute_result",
          "data": {
            "text/plain": [
              "'\\n1. Add Customer\\n2. Update Customer Job\\n3. Create Account\\n4. Deposit Amount\\n5. Withdraw Amount\\n6. Get Balance\\n7. Add Account in Branch\\n8. Remove Account from Branch\\n9. Print All Customer Balances\\nx. Quit\\n'"
            ],
            "application/vnd.google.colaboratory.intrinsic+json": {
              "type": "string"
            }
          },
          "metadata": {},
          "execution_count": 1
        }
      ]
    }
  ],
  "metadata": {
    "colab": {
      "provenance": []
    },
    "kernelspec": {
      "display_name": "Python 3",
      "name": "python3"
    },
    "language_info": {
      "name": "python"
    }
  },
  "nbformat": 4,
  "nbformat_minor": 0
}